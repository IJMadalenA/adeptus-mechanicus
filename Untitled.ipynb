{
 "cells": [
  {
   "cell_type": "code",
   "execution_count": 9,
   "metadata": {},
   "outputs": [
    {
     "name": "stdout",
     "output_type": "stream",
     "text": [
      "[0, 1, 5, 6, 8, 10, 11, 12, 13, 19]\n"
     ]
    }
   ],
   "source": [
    "import random\n",
    "\n",
    "def ordenamiento_por_incercion(tamaño_de_lista):\n",
    "    lista = [random.randint(0,20) for i in range(0, tamaño_de_lista)]\n",
    "    for i in range(len(lista)):\n",
    "        for j in range(i,0,-1):\n",
    "            if(lista[j-1] > lista[j]):\n",
    "                aux=lista[j];\n",
    "                lista[j]=lista[j-1];\n",
    "                lista[j-1]=aux;\n",
    "    print(lista)\n",
    "    \n",
    "ordenamiento_por_incercion(10)"
   ]
  },
  {
   "cell_type": "code",
   "execution_count": 4,
   "metadata": {},
   "outputs": [
    {
     "data": {
      "text/plain": [
       "2000"
      ]
     },
     "execution_count": 4,
     "metadata": {},
     "output_type": "execute_result"
    }
   ],
   "source": [
    "def my_func(x):\n",
    "    respuesta = 0\n",
    "    for i in range(2000):\n",
    "        respuesta += 1\n",
    "    return respuesta\n",
    "\n",
    "my_func(1)"
   ]
  },
  {
   "cell_type": "code",
   "execution_count": null,
   "metadata": {},
   "outputs": [],
   "source": []
  }
 ],
 "metadata": {
  "kernelspec": {
   "display_name": "Python 3",
   "language": "python",
   "name": "python3"
  },
  "language_info": {
   "codemirror_mode": {
    "name": "ipython",
    "version": 3
   },
   "file_extension": ".py",
   "mimetype": "text/x-python",
   "name": "python",
   "nbconvert_exporter": "python",
   "pygments_lexer": "ipython3",
   "version": "3.8.3"
  }
 },
 "nbformat": 4,
 "nbformat_minor": 4
}
