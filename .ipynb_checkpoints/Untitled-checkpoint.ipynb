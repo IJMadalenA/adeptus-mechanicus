{
 "cells": [
  {
   "cell_type": "code",
   "execution_count": 2,
   "metadata": {},
   "outputs": [
    {
     "name": "stdout",
     "output_type": "stream",
     "text": [
      "Collecting jupyterlab_legos_ui\n",
      "  Downloading jupyterlab_legos_ui-0.1.1-py3-none-any.whl (50 kB)\n",
      "\u001b[K     |████████████████████████████████| 50 kB 5.4 MB/s eta 0:00:011\n",
      "\u001b[?25hCollecting nbconvert==5.6.1\n",
      "  Downloading nbconvert-5.6.1-py2.py3-none-any.whl (455 kB)\n",
      "\u001b[K     |████████████████████████████████| 455 kB 23.4 MB/s eta 0:00:01\n",
      "\u001b[?25hCollecting jedi==0.17.2\n",
      "  Downloading jedi-0.17.2-py2.py3-none-any.whl (1.4 MB)\n",
      "\u001b[K     |████████████████████████████████| 1.4 MB 100.7 MB/s eta 0:00:01\n",
      "\u001b[?25hRequirement already satisfied: jupyterlab==3.*,>=3.0.0 in /home/ismael/.local/lib/python3.8/site-packages (from jupyterlab_legos_ui) (3.0.12)\n",
      "Requirement already satisfied: nbformat>=4.4 in /home/ismael/.local/lib/python3.8/site-packages (from nbconvert==5.6.1->jupyterlab_legos_ui) (5.1.3)\n",
      "Requirement already satisfied: jupyter-core in /home/ismael/.local/lib/python3.8/site-packages (from nbconvert==5.6.1->jupyterlab_legos_ui) (4.7.1)\n",
      "Requirement already satisfied: bleach in /home/ismael/.local/lib/python3.8/site-packages (from nbconvert==5.6.1->jupyterlab_legos_ui) (3.3.0)\n",
      "Requirement already satisfied: jinja2>=2.4 in /home/ismael/.local/lib/python3.8/site-packages (from nbconvert==5.6.1->jupyterlab_legos_ui) (2.11.3)\n",
      "Requirement already satisfied: mistune<2,>=0.8.1 in /home/ismael/.local/lib/python3.8/site-packages (from nbconvert==5.6.1->jupyterlab_legos_ui) (0.8.4)\n",
      "Requirement already satisfied: pandocfilters>=1.4.1 in /home/ismael/.local/lib/python3.8/site-packages (from nbconvert==5.6.1->jupyterlab_legos_ui) (1.4.3)\n",
      "Requirement already satisfied: testpath in /home/ismael/.local/lib/python3.8/site-packages (from nbconvert==5.6.1->jupyterlab_legos_ui) (0.4.4)\n",
      "Requirement already satisfied: defusedxml in /home/ismael/.local/lib/python3.8/site-packages (from nbconvert==5.6.1->jupyterlab_legos_ui) (0.7.1)\n",
      "Requirement already satisfied: traitlets>=4.2 in /home/ismael/.local/lib/python3.8/site-packages (from nbconvert==5.6.1->jupyterlab_legos_ui) (5.0.5)\n",
      "Requirement already satisfied: pygments in /home/ismael/.local/lib/python3.8/site-packages (from nbconvert==5.6.1->jupyterlab_legos_ui) (2.8.1)\n",
      "Requirement already satisfied: entrypoints>=0.2.2 in /usr/lib/python3/dist-packages (from nbconvert==5.6.1->jupyterlab_legos_ui) (0.3)\n",
      "Collecting parso<0.8.0,>=0.7.0\n",
      "  Downloading parso-0.7.1-py2.py3-none-any.whl (109 kB)\n",
      "\u001b[K     |████████████████████████████████| 109 kB 142.9 MB/s eta 0:00:01\n",
      "\u001b[?25hRequirement already satisfied: ipython in /home/ismael/.local/lib/python3.8/site-packages (from jupyterlab==3.*,>=3.0.0->jupyterlab_legos_ui) (7.22.0)\n",
      "Requirement already satisfied: jupyterlab-server~=2.3 in /home/ismael/.local/lib/python3.8/site-packages (from jupyterlab==3.*,>=3.0.0->jupyterlab_legos_ui) (2.4.0)\n",
      "Requirement already satisfied: jupyter-packaging~=0.7.3 in /home/ismael/.local/lib/python3.8/site-packages (from jupyterlab==3.*,>=3.0.0->jupyterlab_legos_ui) (0.7.12)\n",
      "Requirement already satisfied: tornado>=6.1.0 in /home/ismael/.local/lib/python3.8/site-packages (from jupyterlab==3.*,>=3.0.0->jupyterlab_legos_ui) (6.1)\n",
      "Requirement already satisfied: nbclassic~=0.2 in /home/ismael/.local/lib/python3.8/site-packages (from jupyterlab==3.*,>=3.0.0->jupyterlab_legos_ui) (0.2.6)\n",
      "Requirement already satisfied: packaging in /home/ismael/.local/lib/python3.8/site-packages (from jupyterlab==3.*,>=3.0.0->jupyterlab_legos_ui) (20.9)\n",
      "Requirement already satisfied: jupyter-server~=1.4 in /home/ismael/.local/lib/python3.8/site-packages (from jupyterlab==3.*,>=3.0.0->jupyterlab_legos_ui) (1.5.1)\n",
      "Requirement already satisfied: jsonschema!=2.5.0,>=2.4 in /home/ismael/.local/lib/python3.8/site-packages (from nbformat>=4.4->nbconvert==5.6.1->jupyterlab_legos_ui) (3.2.0)\n",
      "Requirement already satisfied: ipython-genutils in /home/ismael/.local/lib/python3.8/site-packages (from nbformat>=4.4->nbconvert==5.6.1->jupyterlab_legos_ui) (0.2.0)\n",
      "Requirement already satisfied: six>=1.9.0 in /usr/lib/python3/dist-packages (from bleach->nbconvert==5.6.1->jupyterlab_legos_ui) (1.14.0)\n",
      "Requirement already satisfied: webencodings in /home/ismael/.local/lib/python3.8/site-packages (from bleach->nbconvert==5.6.1->jupyterlab_legos_ui) (0.5.1)\n",
      "Requirement already satisfied: MarkupSafe>=0.23 in /usr/lib/python3/dist-packages (from jinja2>=2.4->nbconvert==5.6.1->jupyterlab_legos_ui) (1.1.0)\n",
      "Requirement already satisfied: backcall in /home/ismael/.local/lib/python3.8/site-packages (from ipython->jupyterlab==3.*,>=3.0.0->jupyterlab_legos_ui) (0.2.0)\n",
      "Requirement already satisfied: pexpect>4.3; sys_platform != \"win32\" in /usr/lib/python3/dist-packages (from ipython->jupyterlab==3.*,>=3.0.0->jupyterlab_legos_ui) (4.6.0)\n",
      "Requirement already satisfied: decorator in /home/ismael/.local/lib/python3.8/site-packages (from ipython->jupyterlab==3.*,>=3.0.0->jupyterlab_legos_ui) (5.0.5)\n",
      "Requirement already satisfied: setuptools>=18.5 in /usr/lib/python3/dist-packages (from ipython->jupyterlab==3.*,>=3.0.0->jupyterlab_legos_ui) (45.2.0)\n",
      "Requirement already satisfied: pickleshare in /home/ismael/.local/lib/python3.8/site-packages (from ipython->jupyterlab==3.*,>=3.0.0->jupyterlab_legos_ui) (0.7.5)\n",
      "Requirement already satisfied: prompt-toolkit!=3.0.0,!=3.0.1,<3.1.0,>=2.0.0 in /home/ismael/.local/lib/python3.8/site-packages (from ipython->jupyterlab==3.*,>=3.0.0->jupyterlab_legos_ui) (3.0.18)\n",
      "Requirement already satisfied: json5 in /home/ismael/.local/lib/python3.8/site-packages (from jupyterlab-server~=2.3->jupyterlab==3.*,>=3.0.0->jupyterlab_legos_ui) (0.9.5)\n",
      "Requirement already satisfied: babel in /home/ismael/.local/lib/python3.8/site-packages (from jupyterlab-server~=2.3->jupyterlab==3.*,>=3.0.0->jupyterlab_legos_ui) (2.9.0)\n",
      "Requirement already satisfied: requests in /home/ismael/.local/lib/python3.8/site-packages (from jupyterlab-server~=2.3->jupyterlab==3.*,>=3.0.0->jupyterlab_legos_ui) (2.24.0)\n",
      "Requirement already satisfied: notebook<7 in /home/ismael/.local/lib/python3.8/site-packages (from nbclassic~=0.2->jupyterlab==3.*,>=3.0.0->jupyterlab_legos_ui) (6.3.0)\n",
      "Requirement already satisfied: pyparsing>=2.0.2 in /home/ismael/.local/lib/python3.8/site-packages (from packaging->jupyterlab==3.*,>=3.0.0->jupyterlab_legos_ui) (2.4.7)\n",
      "Requirement already satisfied: anyio>=2.0.2 in /home/ismael/.local/lib/python3.8/site-packages (from jupyter-server~=1.4->jupyterlab==3.*,>=3.0.0->jupyterlab_legos_ui) (2.2.0)\n",
      "Requirement already satisfied: prometheus-client in /home/ismael/.local/lib/python3.8/site-packages (from jupyter-server~=1.4->jupyterlab==3.*,>=3.0.0->jupyterlab_legos_ui) (0.10.0)\n",
      "Requirement already satisfied: Send2Trash in /home/ismael/.local/lib/python3.8/site-packages (from jupyter-server~=1.4->jupyterlab==3.*,>=3.0.0->jupyterlab_legos_ui) (1.5.0)\n",
      "Requirement already satisfied: pyzmq>=17 in /home/ismael/.local/lib/python3.8/site-packages (from jupyter-server~=1.4->jupyterlab==3.*,>=3.0.0->jupyterlab_legos_ui) (22.0.3)\n",
      "Requirement already satisfied: jupyter-client>=6.1.1 in /home/ismael/.local/lib/python3.8/site-packages (from jupyter-server~=1.4->jupyterlab==3.*,>=3.0.0->jupyterlab_legos_ui) (6.1.12)\n",
      "Requirement already satisfied: terminado>=0.8.3 in /home/ismael/.local/lib/python3.8/site-packages (from jupyter-server~=1.4->jupyterlab==3.*,>=3.0.0->jupyterlab_legos_ui) (0.9.4)\n",
      "Requirement already satisfied: argon2-cffi in /home/ismael/.local/lib/python3.8/site-packages (from jupyter-server~=1.4->jupyterlab==3.*,>=3.0.0->jupyterlab_legos_ui) (20.1.0)\n",
      "Requirement already satisfied: pyrsistent>=0.14.0 in /home/ismael/.local/lib/python3.8/site-packages (from jsonschema!=2.5.0,>=2.4->nbformat>=4.4->nbconvert==5.6.1->jupyterlab_legos_ui) (0.17.3)\n",
      "Requirement already satisfied: attrs>=17.4.0 in /home/ismael/.local/lib/python3.8/site-packages (from jsonschema!=2.5.0,>=2.4->nbformat>=4.4->nbconvert==5.6.1->jupyterlab_legos_ui) (20.3.0)\n",
      "Requirement already satisfied: wcwidth in /home/ismael/.local/lib/python3.8/site-packages (from prompt-toolkit!=3.0.0,!=3.0.1,<3.1.0,>=2.0.0->ipython->jupyterlab==3.*,>=3.0.0->jupyterlab_legos_ui) (0.2.5)\n",
      "Requirement already satisfied: pytz>=2015.7 in /usr/lib/python3/dist-packages (from babel->jupyterlab-server~=2.3->jupyterlab==3.*,>=3.0.0->jupyterlab_legos_ui) (2019.3)\n",
      "Requirement already satisfied: certifi>=2017.4.17 in /usr/lib/python3/dist-packages (from requests->jupyterlab-server~=2.3->jupyterlab==3.*,>=3.0.0->jupyterlab_legos_ui) (2019.11.28)\n",
      "Requirement already satisfied: urllib3!=1.25.0,!=1.25.1,<1.26,>=1.21.1 in /usr/lib/python3/dist-packages (from requests->jupyterlab-server~=2.3->jupyterlab==3.*,>=3.0.0->jupyterlab_legos_ui) (1.25.8)\n",
      "Requirement already satisfied: idna<3,>=2.5 in /usr/lib/python3/dist-packages (from requests->jupyterlab-server~=2.3->jupyterlab==3.*,>=3.0.0->jupyterlab_legos_ui) (2.8)\n",
      "Requirement already satisfied: chardet<4,>=3.0.2 in /usr/lib/python3/dist-packages (from requests->jupyterlab-server~=2.3->jupyterlab==3.*,>=3.0.0->jupyterlab_legos_ui) (3.0.4)\n",
      "Requirement already satisfied: ipykernel in /home/ismael/.local/lib/python3.8/site-packages (from notebook<7->nbclassic~=0.2->jupyterlab==3.*,>=3.0.0->jupyterlab_legos_ui) (5.5.3)\n",
      "Requirement already satisfied: sniffio>=1.1 in /home/ismael/.local/lib/python3.8/site-packages (from anyio>=2.0.2->jupyter-server~=1.4->jupyterlab==3.*,>=3.0.0->jupyterlab_legos_ui) (1.2.0)\n",
      "Requirement already satisfied: python-dateutil>=2.1 in /home/ismael/.local/lib/python3.8/site-packages (from jupyter-client>=6.1.1->jupyter-server~=1.4->jupyterlab==3.*,>=3.0.0->jupyterlab_legos_ui) (2.8.1)\n",
      "Requirement already satisfied: ptyprocess; os_name != \"nt\" in /home/ismael/.local/lib/python3.8/site-packages (from terminado>=0.8.3->jupyter-server~=1.4->jupyterlab==3.*,>=3.0.0->jupyterlab_legos_ui) (0.7.0)\n",
      "Requirement already satisfied: cffi>=1.0.0 in /home/ismael/.local/lib/python3.8/site-packages (from argon2-cffi->jupyter-server~=1.4->jupyterlab==3.*,>=3.0.0->jupyterlab_legos_ui) (1.14.5)\n",
      "Requirement already satisfied: pycparser in /home/ismael/.local/lib/python3.8/site-packages (from cffi>=1.0.0->argon2-cffi->jupyter-server~=1.4->jupyterlab==3.*,>=3.0.0->jupyterlab_legos_ui) (2.20)\n"
     ]
    },
    {
     "name": "stdout",
     "output_type": "stream",
     "text": [
      "Installing collected packages: nbconvert, parso, jedi, jupyterlab-legos-ui\n",
      "  Attempting uninstall: nbconvert\n",
      "    Found existing installation: nbconvert 6.0.7\n",
      "    Uninstalling nbconvert-6.0.7:\n",
      "      Successfully uninstalled nbconvert-6.0.7\n",
      "  Attempting uninstall: parso\n",
      "    Found existing installation: parso 0.8.2\n",
      "    Uninstalling parso-0.8.2:\n",
      "      Successfully uninstalled parso-0.8.2\n",
      "  Attempting uninstall: jedi\n",
      "    Found existing installation: jedi 0.18.0\n",
      "    Uninstalling jedi-0.18.0:\n",
      "      Successfully uninstalled jedi-0.18.0\n",
      "Successfully installed jedi-0.17.2 jupyterlab-legos-ui-0.1.1 nbconvert-5.6.1 parso-0.7.1\n",
      "Note: you may need to restart the kernel to use updated packages.\n"
     ]
    }
   ],
   "source": [
    "pip install jupyterlab_legos_ui"
   ]
  },
  {
   "cell_type": "code",
   "execution_count": 3,
   "metadata": {
    "scrolled": true
   },
   "outputs": [
    {
     "name": "stdout",
     "output_type": "stream",
     "text": [
      "Requirement already satisfied: jupyterthemes in /home/ismael/.local/lib/python3.8/site-packages (0.20.0)\n",
      "Requirement already satisfied: notebook>=5.6.0 in /home/ismael/.local/lib/python3.8/site-packages (from jupyterthemes) (6.3.0)\n",
      "Requirement already satisfied: ipython>=5.4.1 in /home/ismael/.local/lib/python3.8/site-packages (from jupyterthemes) (7.22.0)\n",
      "Requirement already satisfied: jupyter-core in /home/ismael/.local/lib/python3.8/site-packages (from jupyterthemes) (4.7.1)\n",
      "Requirement already satisfied: matplotlib>=1.4.3 in /home/ismael/.local/lib/python3.8/site-packages (from jupyterthemes) (3.4.1)\n",
      "Requirement already satisfied: lesscpy>=0.11.2 in /home/ismael/.local/lib/python3.8/site-packages (from jupyterthemes) (0.14.0)\n",
      "Requirement already satisfied: nbformat in /home/ismael/.local/lib/python3.8/site-packages (from notebook>=5.6.0->jupyterthemes) (5.1.3)\n",
      "Requirement already satisfied: tornado>=6.1 in /home/ismael/.local/lib/python3.8/site-packages (from notebook>=5.6.0->jupyterthemes) (6.1)\n",
      "Requirement already satisfied: terminado>=0.8.3 in /home/ismael/.local/lib/python3.8/site-packages (from notebook>=5.6.0->jupyterthemes) (0.9.4)\n",
      "Requirement already satisfied: traitlets>=4.2.1 in /home/ismael/.local/lib/python3.8/site-packages (from notebook>=5.6.0->jupyterthemes) (5.0.5)\n",
      "Requirement already satisfied: jupyter-client>=5.3.4 in /home/ismael/.local/lib/python3.8/site-packages (from notebook>=5.6.0->jupyterthemes) (6.1.12)\n",
      "Requirement already satisfied: pyzmq>=17 in /home/ismael/.local/lib/python3.8/site-packages (from notebook>=5.6.0->jupyterthemes) (22.0.3)\n",
      "Requirement already satisfied: argon2-cffi in /home/ismael/.local/lib/python3.8/site-packages (from notebook>=5.6.0->jupyterthemes) (20.1.0)\n",
      "Requirement already satisfied: ipykernel in /home/ismael/.local/lib/python3.8/site-packages (from notebook>=5.6.0->jupyterthemes) (5.5.3)\n",
      "Requirement already satisfied: Send2Trash>=1.5.0 in /home/ismael/.local/lib/python3.8/site-packages (from notebook>=5.6.0->jupyterthemes) (1.5.0)\n",
      "Requirement already satisfied: ipython-genutils in /home/ismael/.local/lib/python3.8/site-packages (from notebook>=5.6.0->jupyterthemes) (0.2.0)\n",
      "Requirement already satisfied: prometheus-client in /home/ismael/.local/lib/python3.8/site-packages (from notebook>=5.6.0->jupyterthemes) (0.10.0)\n",
      "Requirement already satisfied: nbconvert in /home/ismael/.local/lib/python3.8/site-packages (from notebook>=5.6.0->jupyterthemes) (5.6.1)\n",
      "Requirement already satisfied: jinja2 in /home/ismael/.local/lib/python3.8/site-packages (from notebook>=5.6.0->jupyterthemes) (2.11.3)\n",
      "Requirement already satisfied: backcall in /home/ismael/.local/lib/python3.8/site-packages (from ipython>=5.4.1->jupyterthemes) (0.2.0)\n",
      "Requirement already satisfied: pexpect>4.3; sys_platform != \"win32\" in /usr/lib/python3/dist-packages (from ipython>=5.4.1->jupyterthemes) (4.6.0)\n",
      "Requirement already satisfied: decorator in /home/ismael/.local/lib/python3.8/site-packages (from ipython>=5.4.1->jupyterthemes) (5.0.5)\n",
      "Requirement already satisfied: prompt-toolkit!=3.0.0,!=3.0.1,<3.1.0,>=2.0.0 in /home/ismael/.local/lib/python3.8/site-packages (from ipython>=5.4.1->jupyterthemes) (3.0.18)\n",
      "Requirement already satisfied: pickleshare in /home/ismael/.local/lib/python3.8/site-packages (from ipython>=5.4.1->jupyterthemes) (0.7.5)\n",
      "Requirement already satisfied: pygments in /home/ismael/.local/lib/python3.8/site-packages (from ipython>=5.4.1->jupyterthemes) (2.8.1)\n",
      "Requirement already satisfied: setuptools>=18.5 in /usr/lib/python3/dist-packages (from ipython>=5.4.1->jupyterthemes) (45.2.0)\n",
      "Requirement already satisfied: jedi>=0.16 in /home/ismael/.local/lib/python3.8/site-packages (from ipython>=5.4.1->jupyterthemes) (0.17.2)\n",
      "Requirement already satisfied: pyparsing>=2.2.1 in /home/ismael/.local/lib/python3.8/site-packages (from matplotlib>=1.4.3->jupyterthemes) (2.4.7)\n",
      "Requirement already satisfied: pillow>=6.2.0 in /usr/lib/python3/dist-packages (from matplotlib>=1.4.3->jupyterthemes) (7.0.0)\n",
      "Requirement already satisfied: numpy>=1.16 in /home/ismael/.local/lib/python3.8/site-packages (from matplotlib>=1.4.3->jupyterthemes) (1.20.2)\n",
      "Requirement already satisfied: kiwisolver>=1.0.1 in /home/ismael/.local/lib/python3.8/site-packages (from matplotlib>=1.4.3->jupyterthemes) (1.3.1)\n",
      "Requirement already satisfied: python-dateutil>=2.7 in /home/ismael/.local/lib/python3.8/site-packages (from matplotlib>=1.4.3->jupyterthemes) (2.8.1)\n",
      "Requirement already satisfied: cycler>=0.10 in /home/ismael/.local/lib/python3.8/site-packages (from matplotlib>=1.4.3->jupyterthemes) (0.10.0)\n",
      "Requirement already satisfied: six in /usr/lib/python3/dist-packages (from lesscpy>=0.11.2->jupyterthemes) (1.14.0)\n",
      "Requirement already satisfied: ply in /home/ismael/.local/lib/python3.8/site-packages (from lesscpy>=0.11.2->jupyterthemes) (3.11)\n",
      "Requirement already satisfied: jsonschema!=2.5.0,>=2.4 in /home/ismael/.local/lib/python3.8/site-packages (from nbformat->notebook>=5.6.0->jupyterthemes) (3.2.0)\n",
      "Requirement already satisfied: ptyprocess; os_name != \"nt\" in /home/ismael/.local/lib/python3.8/site-packages (from terminado>=0.8.3->notebook>=5.6.0->jupyterthemes) (0.7.0)\n",
      "Requirement already satisfied: cffi>=1.0.0 in /home/ismael/.local/lib/python3.8/site-packages (from argon2-cffi->notebook>=5.6.0->jupyterthemes) (1.14.5)\n",
      "Requirement already satisfied: defusedxml in /home/ismael/.local/lib/python3.8/site-packages (from nbconvert->notebook>=5.6.0->jupyterthemes) (0.7.1)\n",
      "Requirement already satisfied: mistune<2,>=0.8.1 in /home/ismael/.local/lib/python3.8/site-packages (from nbconvert->notebook>=5.6.0->jupyterthemes) (0.8.4)\n",
      "Requirement already satisfied: pandocfilters>=1.4.1 in /home/ismael/.local/lib/python3.8/site-packages (from nbconvert->notebook>=5.6.0->jupyterthemes) (1.4.3)\n",
      "Requirement already satisfied: testpath in /home/ismael/.local/lib/python3.8/site-packages (from nbconvert->notebook>=5.6.0->jupyterthemes) (0.4.4)\n",
      "Requirement already satisfied: entrypoints>=0.2.2 in /usr/lib/python3/dist-packages (from nbconvert->notebook>=5.6.0->jupyterthemes) (0.3)\n",
      "Requirement already satisfied: bleach in /home/ismael/.local/lib/python3.8/site-packages (from nbconvert->notebook>=5.6.0->jupyterthemes) (3.3.0)\n",
      "Requirement already satisfied: MarkupSafe>=0.23 in /usr/lib/python3/dist-packages (from jinja2->notebook>=5.6.0->jupyterthemes) (1.1.0)\n",
      "Requirement already satisfied: wcwidth in /home/ismael/.local/lib/python3.8/site-packages (from prompt-toolkit!=3.0.0,!=3.0.1,<3.1.0,>=2.0.0->ipython>=5.4.1->jupyterthemes) (0.2.5)\n",
      "Requirement already satisfied: parso<0.8.0,>=0.7.0 in /home/ismael/.local/lib/python3.8/site-packages (from jedi>=0.16->ipython>=5.4.1->jupyterthemes) (0.7.1)\n",
      "Requirement already satisfied: attrs>=17.4.0 in /home/ismael/.local/lib/python3.8/site-packages (from jsonschema!=2.5.0,>=2.4->nbformat->notebook>=5.6.0->jupyterthemes) (20.3.0)\n",
      "Requirement already satisfied: pyrsistent>=0.14.0 in /home/ismael/.local/lib/python3.8/site-packages (from jsonschema!=2.5.0,>=2.4->nbformat->notebook>=5.6.0->jupyterthemes) (0.17.3)\n",
      "Requirement already satisfied: pycparser in /home/ismael/.local/lib/python3.8/site-packages (from cffi>=1.0.0->argon2-cffi->notebook>=5.6.0->jupyterthemes) (2.20)\n",
      "Requirement already satisfied: webencodings in /home/ismael/.local/lib/python3.8/site-packages (from bleach->nbconvert->notebook>=5.6.0->jupyterthemes) (0.5.1)\n",
      "Requirement already satisfied: packaging in /home/ismael/.local/lib/python3.8/site-packages (from bleach->nbconvert->notebook>=5.6.0->jupyterthemes) (20.9)\n",
      "Note: you may need to restart the kernel to use updated packages.\n"
     ]
    }
   ],
   "source": [
    "pip install jupyterthemes"
   ]
  },
  {
   "cell_type": "code",
   "execution_count": 5,
   "metadata": {},
   "outputs": [
    {
     "ename": "NameError",
     "evalue": "name 'jt' is not defined",
     "output_type": "error",
     "traceback": [
      "\u001b[0;31m---------------------------------------------------------------------------\u001b[0m",
      "\u001b[0;31mNameError\u001b[0m                                 Traceback (most recent call last)",
      "\u001b[0;32m<ipython-input-5-77bb524fe3e4>\u001b[0m in \u001b[0;36m<module>\u001b[0;34m\u001b[0m\n\u001b[0;32m----> 1\u001b[0;31m \u001b[0mjt\u001b[0m \u001b[0;34m-\u001b[0m\u001b[0ml\u001b[0m\u001b[0;34m\u001b[0m\u001b[0;34m\u001b[0m\u001b[0m\n\u001b[0m",
      "\u001b[0;31mNameError\u001b[0m: name 'jt' is not defined"
     ]
    }
   ],
   "source": [
    "jt -l"
   ]
  },
  {
   "cell_type": "code",
   "execution_count": null,
   "metadata": {},
   "outputs": [],
   "source": []
  }
 ],
 "metadata": {
  "kernelspec": {
   "display_name": "Python 3",
   "language": "python",
   "name": "python3"
  },
  "language_info": {
   "codemirror_mode": {
    "name": "ipython",
    "version": 3
   },
   "file_extension": ".py",
   "mimetype": "text/x-python",
   "name": "python",
   "nbconvert_exporter": "python",
   "pygments_lexer": "ipython3",
   "version": "3.8.5"
  }
 },
 "nbformat": 4,
 "nbformat_minor": 4
}
