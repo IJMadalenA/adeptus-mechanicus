{
 "cells": [
  {
   "cell_type": "markdown",
   "metadata": {},
   "source": [
    "**[\"Writing Math Equations\"](\"https://medium.com/analytics-vidhya/writing-math-equations-in-jupyter-notebook-a-naive-introduction-a5ce87b9a214\")**\n",
    "\n",
    "**['LaTeX: Symbols']('https://artofproblemsolving.com/wiki/index.php/LaTeX:Symbols')**"
   ]
  },
  {
   "cell_type": "code",
   "execution_count": 5,
   "metadata": {},
   "outputs": [],
   "source": [
    "import pandas as pd\n",
    "import numpy as np\n",
    "\n",
    "from random import randint\n",
    "from random import uniform\n",
    "from random import random\n",
    "import seaborn as sns\n",
    "\n",
    "import math\n",
    "import statistics as stats"
   ]
  },
  {
   "cell_type": "code",
   "execution_count": 6,
   "metadata": {},
   "outputs": [],
   "source": [
    "df = pd.read_csv('Data/StudentsPerformance.csv')"
   ]
  },
  {
   "cell_type": "code",
   "execution_count": 7,
   "metadata": {},
   "outputs": [],
   "source": [
    "N = [randint(0,100) for i in range(100_000)]\n",
    "\n",
    "tamaño_muestral = 5_000\n",
    "n = mustra = [N[randint(0,100_000)] for i in range(tamaño_muestral)]"
   ]
  },
  {
   "cell_type": "markdown",
   "metadata": {},
   "source": [
    "# Fundamentos de la Estadistica Descriptiva.\n",
    "\n",
    "-\n",
    "\n",
    "-\n",
    "\n",
    "## - Dividir variables numericas de forma categorica de igual amplitud segun su frecuencia:\n",
    "    \n",
    "    Se ordenan los valores de forma ascendente y luego se resta el valor maximo menos el valor minimo y se divide entre el numero de categorias deseadas. \n",
    "    \n",
    "### $$n\\_categorias = \\frac{valor\\_maximo - valor\\_minimo}{n\\_categorias\\_deseadas}$$\n",
    "\n",
    "    Un numero es incluido en un intervalo si este es:\n",
    "        1) Mayor que el limite inferior.\n",
    "        2) Menor o igual que el limite superior."
   ]
  },
  {
   "cell_type": "markdown",
   "metadata": {},
   "source": [
    "## - Los graficos de barras son para variables categoricas nominales.\n",
    "\n",
    "    El grafico de barra no sigue un orden o jerarquia estricta, las barras son todas igual de anchas y sirve para comparar diferentes categorias entre si.\n",
    "\n",
    "## - Los histogramas son para categoricas ordinales o cuantitativos.\n",
    "\n",
    "    Sirve para representar la frecuencia de los datos y su distribución en rangos."
   ]
  },
  {
   "cell_type": "markdown",
   "metadata": {},
   "source": [
    "# Metricas y sus tipos:\n",
    "\n",
    "# - Tendencia Central: \n",
    "- ## Media aritmética ( $\\overline{x}$ ):\n",
    "  - es el valor obtenido por la suma de todos sus valores dividida entre el número de sumadores.\n",
    "  \n",
    "  \n",
    "   Media Aritmetica Poblacional = \n",
    "### $$ \\overline{x} = \\frac{1}{n} \\sum  \\limits_{i = 1} ^{n} x_i = \\frac{x_1 + x_2 + ... + x_n}{n}$$ \n",
    "  \n",
    "   Media Aritmetica Muestral = \n",
    "### $$ \\mu = \\frac{1}{N} \\sum  \\limits_{i = 1} ^{N} x_i = \\frac{x_1 + x_2 + ... + x_N}{N}$$\n"
   ]
  },
  {
   "cell_type": "code",
   "execution_count": 25,
   "metadata": {},
   "outputs": [
    {
     "name": "stdout",
     "output_type": "stream",
     "text": [
      "𝜇 = 50.01808 \n",
      "x = 49.5762\n"
     ]
    }
   ],
   "source": [
    "𝜇 = np.mean(N)\n",
    "\n",
    "𝑥 = np.mean(n)\n",
    "\n",
    "print('𝜇 = {} \\nx = {}'.format(𝜇, x))"
   ]
  },
  {
   "cell_type": "markdown",
   "metadata": {},
   "source": [
    "- ## Media ponderada"
   ]
  },
  {
   "cell_type": "code",
   "execution_count": null,
   "metadata": {},
   "outputs": [],
   "source": []
  },
  {
   "cell_type": "markdown",
   "metadata": {},
   "source": [
    "- ## Media geométrica"
   ]
  },
  {
   "cell_type": "code",
   "execution_count": null,
   "metadata": {},
   "outputs": [],
   "source": []
  },
  {
   "cell_type": "markdown",
   "metadata": {},
   "source": [
    "- ## Media armónica"
   ]
  },
  {
   "cell_type": "code",
   "execution_count": null,
   "metadata": {},
   "outputs": [],
   "source": []
  },
  {
   "cell_type": "markdown",
   "metadata": {},
   "source": [
    "- ## Mediana\n",
    "  - Representa el valor central del conjunto de datos ordenados."
   ]
  },
  {
   "cell_type": "code",
   "execution_count": 5,
   "metadata": {},
   "outputs": [
    {
     "data": {
      "text/plain": [
       "64"
      ]
     },
     "execution_count": 5,
     "metadata": {},
     "output_type": "execute_result"
    }
   ],
   "source": [
    "def mediana(x):\n",
    "    \n",
    "    if len(x)%2 == 0:\n",
    "        return x[int(len(x)/2)]\n",
    "    else:\n",
    "        n = len(x)/2     \n",
    "        return (x[int(n+0.5)] + x[int(n-0.5)])/2\n",
    "\n",
    "mediana(N)"
   ]
  },
  {
   "cell_type": "markdown",
   "metadata": {},
   "source": [
    "- ## Moda"
   ]
  },
  {
   "cell_type": "code",
   "execution_count": 6,
   "metadata": {},
   "outputs": [
    {
     "data": {
      "text/plain": [
       "51"
      ]
     },
     "execution_count": 6,
     "metadata": {},
     "output_type": "execute_result"
    }
   ],
   "source": [
    "stats.mode(N)"
   ]
  },
  {
   "cell_type": "markdown",
   "metadata": {},
   "source": [
    "# Medidas de Variabilidad y Asimetria\n",
    " - ## Varianza:\n",
    "        Mide la dispersión de un conjunto de datos respecto a su media.\n",
    "        \n",
    "#### Formula de la varianza poblacional: \n",
    "### $$ \\sigma^2 = \\frac{\\sum \\limits_{i = 1} ^{N} (x_i - \\mu)^2}{N} $$\n",
    "\n",
    "\n",
    "#### Formula de la varianza muestral:\n",
    "### $$ s^2 = \\frac{\\sum  \\limits_{i = 1} ^{n}  (x_i - \\bar{x})^2}{n-1} $$\n",
    "\n",
    "\n",
    "   - **Nota**: \n",
    "    - La suma de las diferencias se eleva al cuadrado para eliminar numeros negativos y evitar que el calculo resulte así, debido a que la distancia es una medida cuantitativa de razón, por lo que tiene un 0 absoluto y no posee valores negativos. \n",
    "    \n",
    "    - El denominador en la formula muestral ( n ) se le resta 1 para compensar el error muestral que pueda existir."
   ]
  },
  {
   "cell_type": "code",
   "execution_count": 7,
   "metadata": {},
   "outputs": [
    {
     "data": {
      "text/plain": [
       "848.1733203568035"
      ]
     },
     "execution_count": 7,
     "metadata": {},
     "output_type": "execute_result"
    }
   ],
   "source": [
    "# Funcion de la libreria \"statistics\" de Python.\n",
    "\n",
    "stats.variance(N)"
   ]
  },
  {
   "cell_type": "code",
   "execution_count": 8,
   "metadata": {},
   "outputs": [
    {
     "data": {
      "text/plain": [
       "848.1648386235723"
      ]
     },
     "execution_count": 8,
     "metadata": {},
     "output_type": "execute_result"
    }
   ],
   "source": [
    "# Manera manual para conseguir la varianza poblacional.\n",
    "\n",
    "μ = np.mean(N)\n",
    "\n",
    "σ_square = (sum([(i - μ)**2 for i in N]))/len(N)\n",
    "σ_square"
   ]
  },
  {
   "cell_type": "code",
   "execution_count": 18,
   "metadata": {},
   "outputs": [
    {
     "data": {
      "text/plain": [
       "850.169284896977"
      ]
     },
     "execution_count": 18,
     "metadata": {},
     "output_type": "execute_result"
    }
   ],
   "source": [
    "# Manera manual para conseguir la varianza muestral.\n",
    "\n",
    "𝑥 = np.mean(n)\n",
    "\n",
    "s_square = (sum([(i - 𝑥)**2 for i in n]))/(len(n)-1)\n",
    "s_square"
   ]
  },
  {
   "cell_type": "markdown",
   "metadata": {},
   "source": [
    "- ## Desviación tipica o Desviación estándar.\n",
    "   - Es una medida de dispersión y la raiz cuadrada de la varianza, es decir, la raiz cuadrada de la suma de las diferencias de cada valor de un conjunto de datos respecto a su media.\n",
    "   \n",
    "   Desviación tipica poblacional = \n",
    "### $$ \\sigma = \\sqrt{\\sigma^2} $$ \n",
    "   \n",
    "### $$\\sigma = \\sqrt{\\frac{\\sum \\limits_{i = 1} ^{N} (x_i - \\mu)^2}{N}} $$\n",
    "   \n",
    "   Desviación tipica muestral = \n",
    "### $$ s = \\sqrt{s^2} $$\n",
    "   \n",
    "### $$ s = \\sqrt{\\frac{\\sum  \\limits_{i = 1} ^{n}  (x_i - \\bar{x})^2}{n-1}} $$"
   ]
  },
  {
   "cell_type": "code",
   "execution_count": 10,
   "metadata": {},
   "outputs": [
    {
     "data": {
      "text/plain": [
       "29.12341532782176"
      ]
     },
     "execution_count": 10,
     "metadata": {},
     "output_type": "execute_result"
    }
   ],
   "source": [
    "𝜎 = stats.stdev(N) #Libreria statistics.\n",
    "𝜎"
   ]
  },
  {
   "cell_type": "code",
   "execution_count": 11,
   "metadata": {},
   "outputs": [
    {
     "data": {
      "text/plain": [
       "29.157662541722665"
      ]
     },
     "execution_count": 11,
     "metadata": {},
     "output_type": "execute_result"
    }
   ],
   "source": [
    "s = math.sqrt(s_square) #Función sqrt.\n",
    "s"
   ]
  },
  {
   "cell_type": "markdown",
   "metadata": {},
   "source": [
    "- ## Coeficiente de variación o Desviación Tipica Relativa.\n",
    "\n",
    "   - Es la relacion entre la desviación estandar y la media:\n",
    "   \n",
    "   Coeficiente de variación poblacional = \n",
    "## $$C_V = \\frac{\\sigma}{\\mu}$$\n",
    "   \n",
    "   Coeficiente de variación muestral = \n",
    "## $$ \\widehat{C_V} = \\frac{s}{\\overline{x}}$$"
   ]
  },
  {
   "cell_type": "code",
   "execution_count": 12,
   "metadata": {},
   "outputs": [
    {
     "data": {
      "text/plain": [
       "0.5816588700728418"
      ]
     },
     "execution_count": 12,
     "metadata": {},
     "output_type": "execute_result"
    }
   ],
   "source": [
    "CV = 𝜎 / 𝜇\n",
    "CV"
   ]
  },
  {
   "cell_type": "code",
   "execution_count": 13,
   "metadata": {},
   "outputs": [
    {
     "data": {
      "text/plain": [
       "0.584513999425115"
      ]
     },
     "execution_count": 13,
     "metadata": {},
     "output_type": "execute_result"
    }
   ],
   "source": [
    "CV = s / x\n",
    "CV"
   ]
  },
  {
   "cell_type": "markdown",
   "metadata": {},
   "source": [
    "# Medidas de Relacion entre Variables.\n",
    "\n",
    "- ## Covarianza\n",
    "    - Es la estadistica principal para medir la relación entre dos variables.\n",
    "    \n",
    "    Covarianza poblacional:\n",
    "    \n",
    "    ### $$ \\sigma_{xy} = \\frac{{\\sum \\limits_{i = 1} ^{N}}(x_i - \\mu_x)*(y_i - \\mu_y)}{N} $$\n",
    "    \n",
    "    Covarianza muestral:\n",
    "    \n",
    "    ### $$ s_{xy} = \\frac{{\\sum \\limits_{i = 1} ^{n}}(x_i - \\bar{x})*(y_i - \\bar{y})}{n-1} $$"
   ]
  },
  {
   "cell_type": "code",
   "execution_count": 14,
   "metadata": {},
   "outputs": [
    {
     "data": {
      "text/plain": [
       "<matplotlib.axes._subplots.AxesSubplot at 0x1ddf46ead30>"
      ]
     },
     "execution_count": 14,
     "metadata": {},
     "output_type": "execute_result"
    },
    {
     "data": {
      "image/png": "[encoded data removed]",
      "text/plain": [
       "<Figure size 432x288 with 1 Axes>"
      ]
     },
     "metadata": {
      "needs_background": "light"
     },
     "output_type": "display_data"
    }
   ],
   "source": [
    "sns.scatterplot(data = df, x=\"reading score\", y=\"writing score\")"
   ]
  },
  {
   "cell_type": "code",
   "execution_count": 15,
   "metadata": {},
   "outputs": [
    {
     "data": {
      "text/plain": [
       "211.57487400000002"
      ]
     },
     "execution_count": 15,
     "metadata": {},
     "output_type": "execute_result"
    }
   ],
   "source": [
    "𝜇x = df['reading score'].mean()\n",
    "𝜇y = df['writing score'].mean()\n",
    "\n",
    "x = df['reading score']\n",
    "y = df['writing score']\n",
    "\n",
    "# Formula para la covarianza poblacional.\n",
    "𝜎_xy = np.sum([(i - 𝜇x) * (j - 𝜇y)for i, j in zip(x,y)]) / len(df)\n",
    "𝜎_xy"
   ]
  },
  {
   "cell_type": "code",
   "execution_count": 16,
   "metadata": {},
   "outputs": [
    {
     "data": {
      "text/html": [
       "<div>\n",
       "<style scoped>\n",
       "    .dataframe tbody tr th:only-of-type {\n",
       "        vertical-align: middle;\n",
       "    }\n",
       "\n",
       "    .dataframe tbody tr th {\n",
       "        vertical-align: top;\n",
       "    }\n",
       "\n",
       "    .dataframe thead th {\n",
       "        text-align: right;\n",
       "    }\n",
       "</style>\n",
       "<table border=\"1\" class=\"dataframe\">\n",
       "  <thead>\n",
       "    <tr style=\"text-align: right;\">\n",
       "      <th></th>\n",
       "      <th>math score</th>\n",
       "      <th>reading score</th>\n",
       "      <th>writing score</th>\n",
       "    </tr>\n",
       "  </thead>\n",
       "  <tbody>\n",
       "    <tr>\n",
       "      <th>math score</th>\n",
       "      <td>229.918998</td>\n",
       "      <td>180.998958</td>\n",
       "      <td>184.939133</td>\n",
       "    </tr>\n",
       "    <tr>\n",
       "      <th>reading score</th>\n",
       "      <td>180.998958</td>\n",
       "      <td>213.165605</td>\n",
       "      <td>211.786661</td>\n",
       "    </tr>\n",
       "    <tr>\n",
       "      <th>writing score</th>\n",
       "      <td>184.939133</td>\n",
       "      <td>211.786661</td>\n",
       "      <td>230.907992</td>\n",
       "    </tr>\n",
       "  </tbody>\n",
       "</table>\n",
       "</div>"
      ],
      "text/plain": [
       "               math score  reading score  writing score\n",
       "math score     229.918998     180.998958     184.939133\n",
       "reading score  180.998958     213.165605     211.786661\n",
       "writing score  184.939133     211.786661     230.907992"
      ]
     },
     "execution_count": 16,
     "metadata": {},
     "output_type": "execute_result"
    }
   ],
   "source": [
    "#Función para la matriz de covarianza muestral.\n",
    "cov_mat = df.cov()\n",
    "cov_mat"
   ]
  },
  {
   "cell_type": "markdown",
   "metadata": {},
   "source": [
    "- # Coeficiente de Correlacion Lineal.\n",
    "   - Es el resultado de la relacion entre la covarianza y el resultado de la desviación estándar de las dos variables.\n",
    "   \n",
    "  \n",
    "Coeficiente de correlacion lineal poblacional: \n",
    "## $$ \\frac{\\sigma_{xy}}{\\sigma_x * \\sigma_y} $$\n",
    "\n",
    "Coeficiente de correlacion lineal muestral: \n",
    "## $$ \\frac{s_{xy}}{s_x * s_y} $$"
   ]
  },
  {
   "cell_type": "code",
   "execution_count": 17,
   "metadata": {},
   "outputs": [
    {
     "data": {
      "text/plain": [
       "0.9536434790691017"
      ]
     },
     "execution_count": 17,
     "metadata": {},
     "output_type": "execute_result"
    }
   ],
   "source": [
    "𝜎_x = stats.stdev(df['reading score'])\n",
    "𝜎_y = stats.stdev(df['writing score'])\n",
    " \n",
    "𝜎_xy / (𝜎_x * 𝜎_y)"
   ]
  }
 ],
 "metadata": {
  "kernelspec": {
   "display_name": "Python 3",
   "language": "python",
   "name": "python3"
  },
  "language_info": {
   "codemirror_mode": {
    "name": "ipython",
    "version": 3
   },
   "file_extension": ".py",
   "mimetype": "text/x-python",
   "name": "python",
   "nbconvert_exporter": "python",
   "pygments_lexer": "ipython3",
   "version": "3.8.3"
  }
 },
 "nbformat": 4,
 "nbformat_minor": 4
}
